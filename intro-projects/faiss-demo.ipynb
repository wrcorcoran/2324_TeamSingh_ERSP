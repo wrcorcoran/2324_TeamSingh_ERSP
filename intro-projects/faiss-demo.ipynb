{
 "cells": [
  {
   "cell_type": "markdown",
   "metadata": {},
   "source": [
    "## Here is the link to install ['FAISS'](https://github.com/facebookresearch/faiss/blob/main/INSTALL.md)"
   ]
  },
  {
   "cell_type": "code",
   "execution_count": 3,
   "metadata": {},
   "outputs": [
    {
     "name": "stdout",
     "output_type": "stream",
     "text": [
      "[[1.91519454e-01 6.22108757e-01 4.37727749e-01 ... 6.24916732e-01\n",
      "  4.78093803e-01 1.95675179e-01]\n",
      " [3.83317441e-01 5.38736843e-02 4.51648414e-01 ... 1.51395261e-01\n",
      "  3.35174650e-01 6.57551765e-01]\n",
      " [7.53425434e-02 5.50063960e-02 3.23194802e-01 ... 3.44416976e-01\n",
      "  6.40880406e-01 1.26205325e-01]\n",
      " ...\n",
      " [1.00811470e+02 5.90245306e-01 7.98893511e-01 ... 3.39859009e-01\n",
      "  3.01949501e-01 8.53854537e-01]\n",
      " [1.00669464e+02 9.16068792e-01 9.55078781e-01 ... 5.95364332e-01\n",
      "  3.84918079e-02 1.05637990e-01]\n",
      " [1.00855637e+02 5.91134131e-01 6.78907931e-01 ... 2.18976989e-01\n",
      "  6.53015897e-02 2.17538327e-01]]\n"
     ]
    }
   ],
   "source": [
    "import numpy as np\n",
    "d = 64                           # dimension\n",
    "nb = 100000                      # database size\n",
    "nq = 10000                       # nb of queries\n",
    "np.random.seed(1234)             # make reproducible\n",
    "xb = np.random.random((nb, d)).astype('float32')\n",
    "xb[:, 0] += np.arange(nb) / 1000.\n",
    "xq = np.random.random((nq, d)).astype('float32')\n",
    "xq[:, 0] += np.arange(nq) / 1000."
   ]
  },
  {
   "cell_type": "code",
   "execution_count": 4,
   "metadata": {},
   "outputs": [
    {
     "ename": "ModuleNotFoundError",
     "evalue": "No module named 'faiss'",
     "output_type": "error",
     "traceback": [
      "\u001b[0;31m---------------------------------------------------------------------------\u001b[0m",
      "\u001b[0;31mModuleNotFoundError\u001b[0m                       Traceback (most recent call last)",
      "Cell \u001b[0;32mIn[4], line 1\u001b[0m\n\u001b[0;32m----> 1\u001b[0m \u001b[38;5;28;01mimport\u001b[39;00m \u001b[38;5;21;01mfaiss\u001b[39;00m\n\u001b[1;32m      2\u001b[0m index \u001b[38;5;241m=\u001b[39m faiss\u001b[38;5;241m.\u001b[39mIndexFlatL2(d)\n\u001b[1;32m      3\u001b[0m \u001b[38;5;28mprint\u001b[39m(index\u001b[38;5;241m.\u001b[39mis_trained)\n",
      "\u001b[0;31mModuleNotFoundError\u001b[0m: No module named 'faiss'"
     ]
    }
   ],
   "source": [
    "import faiss\n",
    "index = faiss.IndexFlatL2(d)\n",
    "print(index.is_trained)\n",
    "index.add(xb)\n",
    "print(index.ntotal)"
   ]
  },
  {
   "cell_type": "code",
   "execution_count": 6,
   "metadata": {},
   "outputs": [
    {
     "name": "stdout",
     "output_type": "stream",
     "text": [
      "[[  0 393 363]\n",
      " [  1 555 277]\n",
      " [  2 304 101]\n",
      " [  3 173  18]\n",
      " [  4 288 370]]\n",
      "[[0.        7.1751738 7.20763  ]\n",
      " [0.        6.3235645 6.684581 ]\n",
      " [0.        5.7964087 6.391736 ]\n",
      " [0.        7.2779055 7.5279875]\n",
      " [0.        6.7638035 7.2951202]]\n",
      "[[ 381  207  210]\n",
      " [ 526  911  142]\n",
      " [ 838  527 1290]\n",
      " [ 196  184  164]\n",
      " [ 526  377  120]]\n",
      "[[ 9900 10500  9309]\n",
      " [11055 10895 10812]\n",
      " [11353 11103 10164]\n",
      " [10571 10664 10632]\n",
      " [ 9628  9554 10036]]\n"
     ]
    }
   ],
   "source": [
    "k = 3                         # we want to see 4 nearest neighbors\n",
    "D, I = index.search(xb[:5], k) # sanity check\n",
    "print(I)\n",
    "print(D)\n",
    "D, I = index.search(xq, k)     # actual search\n",
    "print(I[:5])                   # neighbors of the 5 first queries\n",
    "print(I[-5:])                  # neighbors of the 5 last queries"
   ]
  }
 ],
 "metadata": {
  "kernelspec": {
   "display_name": "Python 3 (ipykernel)",
   "language": "python",
   "name": "python3"
  },
  "language_info": {
   "codemirror_mode": {
    "name": "ipython",
    "version": 3
   },
   "file_extension": ".py",
   "mimetype": "text/x-python",
   "name": "python",
   "nbconvert_exporter": "python",
   "pygments_lexer": "ipython3",
   "version": "3.11.6"
  }
 },
 "nbformat": 4,
 "nbformat_minor": 2
}
